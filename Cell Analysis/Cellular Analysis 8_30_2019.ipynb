{
 "cells": [
  {
   "cell_type": "code",
   "execution_count": 1,
   "metadata": {
    "code_folding": []
   },
   "outputs": [],
   "source": [
    "## Import Simulation Function Library\n",
    "import sys\n",
    "import os\n",
    "path = 'C:/Users/fritz/Google Drive/Graduate School/Research/Data Analysis/Code'\n",
    "sys.path.append(path) \n",
    "import matplotlib\n",
    "from RetinaOptLib import *\n"
   ]
  },
  {
   "cell_type": "markdown",
   "metadata": {},
   "source": [
    "## TODO:\n",
    "   - Implement params data structure for retinaoptlib\n",
    "   - normalize linear decoder (cell stas) in either inf_norm or l2_norm\n",
    "   - Run simulation for 1 dataset\n",
    "   - frequency analysis:\n",
    "       - what is the frequency weighing mask we're using\n",
    "       - what do the frequency reconstructions look like relative to each other? original? on average?\n",
    "       - how does this compare with frequency weighting mask?\n",
    "       - look at the whole visual scene & calculate its error as a function of bandwidth. should get flat--> csf for higher freqs\n",
    "       \n",
    "       \n",
    "   "
   ]
  },
  {
   "cell_type": "code",
   "execution_count": null,
   "metadata": {
    "code_folding": [
     0
    ]
   },
   "outputs": [],
   "source": [
    "## Set Figure Display Parameters\n",
    "%matplotlib notebook\n",
    "matplotlib.rcParams['figure.figsize'] = (16, 9)"
   ]
  },
  {
   "cell_type": "code",
   "execution_count": null,
   "metadata": {
    "code_folding": [
     0
    ]
   },
   "outputs": [],
   "source": [
    "## load data\n",
    "#img_data = load_data('img_data_19-08-31_14-02.dat')\n",
    "#sim_data = load_data('sim_data_optimal_19-08-31_14-02.dat')\n",
    "\n",
    "#img_data = load_data('waterfall_img_data_19-09-01_19-18.dat')\n",
    "#sim_data = load_data('waterfall_sim_data_optimal_19-09-01_19-18.dat')\n",
    "\n",
    "data_set = load_data('pic_sweep_data_set_19-09-01_23-33.dat')\n",
    "\n",
    "# stim_sweep_data = load_data('stim_sweep_data_19-08-31_17-05.dat')"
   ]
  },
  {
   "cell_type": "code",
   "execution_count": null,
   "metadata": {
    "code_folding": []
   },
   "outputs": [],
   "source": [
    "# dict.mat is piece 2015-11-09-03,  Stixel 8, Eccentricity 20 deg"
   ]
  },
  {
   "cell_type": "code",
   "execution_count": null,
   "metadata": {
    "code_folding": [
     0
    ]
   },
   "outputs": [],
   "source": [
    "## save data\n",
    "# save_data(img_data,'waterfall_img_data')\n",
    "# save_data(sim_data,'waterfall_sim_data_optimal')\n",
    "#save_data(stim_sweep_data,'waterfall_stim_sweep_data')\n",
    "#save_data(data_set,'pic_sweep_data_set')"
   ]
  },
  {
   "cell_type": "code",
   "execution_count": null,
   "metadata": {
    "code_folding": [
     0
    ]
   },
   "outputs": [],
   "source": [
    "### Analysis Question Outline\n",
    "## 1) How does the choice of error metric change optimal cellular activity during linear reconstruction?\n",
    "    \n",
    "#     a) Single Image Analysis:\n",
    "#         - Reconstructed Image Comparison: Is there a perceivable difference in reconstructed Image?\n",
    "#         - Activity: \n",
    "#             i) Is there a difference in which cells are selected in terms of angle?\n",
    "#             ii) What are the total number of spikes required by each algo\n",
    "\n",
    "\n",
    "#     b) Multi-Image Analysis:\n",
    "#         - Activit|y:\n",
    "#             i) Display the optimal activity angle relative to MSE for wMSE and SSIM reconstructions\n",
    "#             ii) Histogram of total number of spikes required over all images for each metric\n",
    "\n",
    "\n",
    "# 2) Distortion: How do the activities change when total spikes are limited? \n",
    "\n",
    "#         a) Error Metric Analysis: For each metric, plot the error of each reconstruction versus num of allowed spikes averaged over all images\n",
    "#             i) Where do the metric diverge? What do the reconstructions look like? \n",
    "\n",
    "\n",
    "#         b) Activity Analysis:  How different is distored activity from optimal in terms of angle betweee, n vectors? \n",
    "#             i) Over each image reconstruction, calculate the anlge between distorted image activity and optimal activity\n",
    "#             ii) average over all images\n",
    "#             iii) plot numStims vs angle for each metric. Does one metric converge to optimal activity faster? \n",
    "\n",
    "\n",
    "# 3) Separability: Given a set of cell activities can we separate them into clusters that predict the error metric used?\n",
    "       \n",
    "#        a) For each metric, stack the cell activity vectors for thatac metrics into the same matrix and perform pca\n",
    "       \n",
    "#        b) Plot each data point/image with color specifying metric (maybe compare to random). See if linearly separable. \n",
    "\n"
   ]
  },
  {
   "cell_type": "code",
   "execution_count": null,
   "metadata": {},
   "outputs": [],
   "source": []
  },
  {
   "cell_type": "code",
   "execution_count": 2,
   "metadata": {
    "code_folding": [
     71,
     75
    ],
    "scrolled": true
   },
   "outputs": [
    {
     "name": "stdout",
     "output_type": "stream",
     "text": [
      "2 x 2 degrees of visual angle is 34 x 34 pixels of the original image.\n",
      "Tiling Image ...\n",
      "Tiled Image\n",
      "Solving for Cellular Activities...\n",
      "MSE Activity Reconsruction:\n"
     ]
    },
    {
     "name": "stderr",
     "output_type": "stream",
     "text": [
      "  1%|▋                                                                               | 14/1737 [00:02<05:13,  5.49it/s]"
     ]
    },
    {
     "ename": "TypeError",
     "evalue": "act_solver() missing 1 required positional argument: 'electrode'",
     "output_type": "error",
     "traceback": [
      "\u001b[1;31m---------------------------------------------------------------------------\u001b[0m",
      "\u001b[1;31m_RemoteTraceback\u001b[0m                          Traceback (most recent call last)",
      "\u001b[1;31m_RemoteTraceback\u001b[0m: \n\"\"\"\nTraceback (most recent call last):\n  File \"C:\\ProgramData\\Anaconda3\\lib\\site-packages\\joblib\\externals\\loky\\process_executor.py\", line 418, in _process_worker\n    r = call_item()\n  File \"C:\\ProgramData\\Anaconda3\\lib\\site-packages\\joblib\\externals\\loky\\process_executor.py\", line 272, in __call__\n    return self.fn(*self.args, **self.kwargs)\n  File \"C:\\ProgramData\\Anaconda3\\lib\\site-packages\\joblib\\_parallel_backends.py\", line 567, in __call__\n    return self.func(*args, **kwargs)\n  File \"C:\\ProgramData\\Anaconda3\\lib\\site-packages\\joblib\\parallel.py\", line 225, in __call__\n    for func, args, kwargs in self.items]\n  File \"C:\\ProgramData\\Anaconda3\\lib\\site-packages\\joblib\\parallel.py\", line 225, in <listcomp>\n    for func, args, kwargs in self.items]\nTypeError: act_solver() missing 1 required positional argument: 'electrode'\n\"\"\"",
      "\nThe above exception was the direct cause of the following exception:\n",
      "\u001b[1;31mTypeError\u001b[0m                                 Traceback (most recent call last)",
      "\u001b[1;32m<ipython-input-2-ba9788459ace>\u001b[0m in \u001b[0;36m<module>\u001b[1;34m\u001b[0m\n\u001b[0;32m     66\u001b[0m \u001b[1;32mif\u001b[0m \u001b[0mrun_sim\u001b[0m\u001b[1;33m:\u001b[0m\u001b[1;33m\u001b[0m\u001b[1;33m\u001b[0m\u001b[0m\n\u001b[0;32m     67\u001b[0m     \u001b[0mimg_data\u001b[0m \u001b[1;33m=\u001b[0m \u001b[0mpreprocess_img\u001b[0m\u001b[1;33m(\u001b[0m\u001b[0mimg\u001b[0m\u001b[1;33m,\u001b[0m \u001b[0mparams\u001b[0m\u001b[1;33m)\u001b[0m\u001b[1;33m\u001b[0m\u001b[1;33m\u001b[0m\u001b[0m\n\u001b[1;32m---> 68\u001b[1;33m     \u001b[0msim_data\u001b[0m    \u001b[1;33m=\u001b[0m  \u001b[0mmetric_compar\u001b[0m\u001b[1;33m(\u001b[0m\u001b[0mimg_data\u001b[0m\u001b[1;33m,\u001b[0m\u001b[0mparams\u001b[0m\u001b[1;33m)\u001b[0m\u001b[1;33m\u001b[0m\u001b[1;33m\u001b[0m\u001b[0m\n\u001b[0m\u001b[0;32m     69\u001b[0m \u001b[1;33m\u001b[0m\u001b[0m\n\u001b[0;32m     70\u001b[0m \u001b[1;32mif\u001b[0m \u001b[0mrun_conv_sim\u001b[0m\u001b[1;33m:\u001b[0m\u001b[1;33m\u001b[0m\u001b[1;33m\u001b[0m\u001b[0m\n",
      "\u001b[1;32mC:/Users/fritz/Google Drive/Graduate School/Research/Data Analysis/Code\\RetinaOptLib.py\u001b[0m in \u001b[0;36mmetric_compar\u001b[1;34m(img_data, params)\u001b[0m\n\u001b[0;32m     78\u001b[0m \u001b[1;33m\u001b[0m\u001b[0m\n\u001b[0;32m     79\u001b[0m     \u001b[0mprint\u001b[0m\u001b[1;33m(\u001b[0m\u001b[1;34m'MSE Activity Reconsruction:'\u001b[0m\u001b[1;33m)\u001b[0m\u001b[1;33m\u001b[0m\u001b[1;33m\u001b[0m\u001b[0m\n\u001b[1;32m---> 80\u001b[1;33m     \u001b[0mimgs_mse\u001b[0m\u001b[1;33m,\u001b[0m \u001b[0macts_mse\u001b[0m \u001b[1;33m=\u001b[0m \u001b[0mrecons_img_set\u001b[0m\u001b[1;33m(\u001b[0m\u001b[0mimg_set\u001b[0m\u001b[1;33m,\u001b[0m\u001b[0mimg_data\u001b[0m\u001b[1;33m,\u001b[0m \u001b[0mparams\u001b[0m\u001b[1;33m,\u001b[0m \u001b[1;34m\"mse\"\u001b[0m\u001b[1;33m)\u001b[0m\u001b[1;33m\u001b[0m\u001b[1;33m\u001b[0m\u001b[0m\n\u001b[0m\u001b[0;32m     81\u001b[0m     \u001b[0mprint\u001b[0m\u001b[1;33m(\u001b[0m\u001b[1;34m'wMSE Activity Reconstruction'\u001b[0m\u001b[1;33m)\u001b[0m\u001b[1;33m\u001b[0m\u001b[1;33m\u001b[0m\u001b[0m\n\u001b[0;32m     82\u001b[0m     \u001b[0mimgs_wms\u001b[0m\u001b[1;33m,\u001b[0m \u001b[0macts_wms\u001b[0m \u001b[1;33m=\u001b[0m \u001b[0mrecons_img_set\u001b[0m\u001b[1;33m(\u001b[0m\u001b[0mimg_set\u001b[0m\u001b[1;33m,\u001b[0m\u001b[0mimg_data\u001b[0m\u001b[1;33m,\u001b[0m \u001b[0mparams\u001b[0m\u001b[1;33m,\u001b[0m \u001b[1;34m\"wms\"\u001b[0m\u001b[1;33m)\u001b[0m\u001b[1;33m\u001b[0m\u001b[1;33m\u001b[0m\u001b[0m\n",
      "\u001b[1;32mC:/Users/fritz/Google Drive/Graduate School/Research/Data Analysis/Code\\RetinaOptLib.py\u001b[0m in \u001b[0;36mrecons_img_set\u001b[1;34m(img_set, img_data, params, metric)\u001b[0m\n\u001b[0;32m    124\u001b[0m \u001b[1;33m\u001b[0m\u001b[0m\n\u001b[0;32m    125\u001b[0m     \u001b[1;31m# run reconstructions in parallel\u001b[0m\u001b[1;33m\u001b[0m\u001b[1;33m\u001b[0m\u001b[1;33m\u001b[0m\u001b[0m\n\u001b[1;32m--> 126\u001b[1;33m     \u001b[0mresults\u001b[0m \u001b[1;33m=\u001b[0m \u001b[0mnp\u001b[0m\u001b[1;33m.\u001b[0m\u001b[0masarray\u001b[0m\u001b[1;33m(\u001b[0m\u001b[0mParallel\u001b[0m\u001b[1;33m(\u001b[0m\u001b[0mn_jobs\u001b[0m\u001b[1;33m=\u001b[0m\u001b[1;33m-\u001b[0m\u001b[1;36m2\u001b[0m\u001b[1;33m)\u001b[0m\u001b[1;33m(\u001b[0m\u001b[0mdelayed\u001b[0m\u001b[1;33m(\u001b[0m\u001b[0mact_solver\u001b[0m\u001b[1;33m)\u001b[0m\u001b[1;33m(\u001b[0m\u001b[0mi\u001b[0m\u001b[1;33m,\u001b[0m\u001b[0mimg_data\u001b[0m\u001b[1;33m,\u001b[0m \u001b[0mparams\u001b[0m\u001b[1;33m,\u001b[0m\u001b[0mmetric\u001b[0m\u001b[1;33m)\u001b[0m \u001b[1;32mfor\u001b[0m \u001b[0mi\u001b[0m \u001b[1;32min\u001b[0m \u001b[0mtqdm\u001b[0m\u001b[1;33m(\u001b[0m\u001b[0mimg_list\u001b[0m\u001b[1;33m)\u001b[0m\u001b[1;33m)\u001b[0m\u001b[1;33m)\u001b[0m\u001b[1;33m\u001b[0m\u001b[1;33m\u001b[0m\u001b[0m\n\u001b[0m\u001b[0;32m    127\u001b[0m     \u001b[1;31m#convert results back to 2 variables separating activity and the reconstructed image\u001b[0m\u001b[1;33m\u001b[0m\u001b[1;33m\u001b[0m\u001b[1;33m\u001b[0m\u001b[0m\n\u001b[0;32m    128\u001b[0m     \u001b[0mimgs\u001b[0m \u001b[1;33m=\u001b[0m \u001b[0mnp\u001b[0m\u001b[1;33m.\u001b[0m\u001b[0mzeros\u001b[0m\u001b[1;33m(\u001b[0m\u001b[1;33m(\u001b[0m\u001b[0mparams\u001b[0m\u001b[1;33m.\u001b[0m\u001b[0mnum_stixels\u001b[0m\u001b[1;33m,\u001b[0m\u001b[0mnum_imgs\u001b[0m\u001b[1;33m)\u001b[0m\u001b[1;33m)\u001b[0m\u001b[1;33m\u001b[0m\u001b[1;33m\u001b[0m\u001b[0m\n",
      "\u001b[1;32mC:\\ProgramData\\Anaconda3\\lib\\site-packages\\joblib\\parallel.py\u001b[0m in \u001b[0;36m__call__\u001b[1;34m(self, iterable)\u001b[0m\n\u001b[0;32m    932\u001b[0m \u001b[1;33m\u001b[0m\u001b[0m\n\u001b[0;32m    933\u001b[0m             \u001b[1;32mwith\u001b[0m \u001b[0mself\u001b[0m\u001b[1;33m.\u001b[0m\u001b[0m_backend\u001b[0m\u001b[1;33m.\u001b[0m\u001b[0mretrieval_context\u001b[0m\u001b[1;33m(\u001b[0m\u001b[1;33m)\u001b[0m\u001b[1;33m:\u001b[0m\u001b[1;33m\u001b[0m\u001b[1;33m\u001b[0m\u001b[0m\n\u001b[1;32m--> 934\u001b[1;33m                 \u001b[0mself\u001b[0m\u001b[1;33m.\u001b[0m\u001b[0mretrieve\u001b[0m\u001b[1;33m(\u001b[0m\u001b[1;33m)\u001b[0m\u001b[1;33m\u001b[0m\u001b[1;33m\u001b[0m\u001b[0m\n\u001b[0m\u001b[0;32m    935\u001b[0m             \u001b[1;31m# Make sure that we get a last message telling us we are done\u001b[0m\u001b[1;33m\u001b[0m\u001b[1;33m\u001b[0m\u001b[1;33m\u001b[0m\u001b[0m\n\u001b[0;32m    936\u001b[0m             \u001b[0melapsed_time\u001b[0m \u001b[1;33m=\u001b[0m \u001b[0mtime\u001b[0m\u001b[1;33m.\u001b[0m\u001b[0mtime\u001b[0m\u001b[1;33m(\u001b[0m\u001b[1;33m)\u001b[0m \u001b[1;33m-\u001b[0m \u001b[0mself\u001b[0m\u001b[1;33m.\u001b[0m\u001b[0m_start_time\u001b[0m\u001b[1;33m\u001b[0m\u001b[1;33m\u001b[0m\u001b[0m\n",
      "\u001b[1;32mC:\\ProgramData\\Anaconda3\\lib\\site-packages\\joblib\\parallel.py\u001b[0m in \u001b[0;36mretrieve\u001b[1;34m(self)\u001b[0m\n\u001b[0;32m    831\u001b[0m             \u001b[1;32mtry\u001b[0m\u001b[1;33m:\u001b[0m\u001b[1;33m\u001b[0m\u001b[1;33m\u001b[0m\u001b[0m\n\u001b[0;32m    832\u001b[0m                 \u001b[1;32mif\u001b[0m \u001b[0mgetattr\u001b[0m\u001b[1;33m(\u001b[0m\u001b[0mself\u001b[0m\u001b[1;33m.\u001b[0m\u001b[0m_backend\u001b[0m\u001b[1;33m,\u001b[0m \u001b[1;34m'supports_timeout'\u001b[0m\u001b[1;33m,\u001b[0m \u001b[1;32mFalse\u001b[0m\u001b[1;33m)\u001b[0m\u001b[1;33m:\u001b[0m\u001b[1;33m\u001b[0m\u001b[1;33m\u001b[0m\u001b[0m\n\u001b[1;32m--> 833\u001b[1;33m                     \u001b[0mself\u001b[0m\u001b[1;33m.\u001b[0m\u001b[0m_output\u001b[0m\u001b[1;33m.\u001b[0m\u001b[0mextend\u001b[0m\u001b[1;33m(\u001b[0m\u001b[0mjob\u001b[0m\u001b[1;33m.\u001b[0m\u001b[0mget\u001b[0m\u001b[1;33m(\u001b[0m\u001b[0mtimeout\u001b[0m\u001b[1;33m=\u001b[0m\u001b[0mself\u001b[0m\u001b[1;33m.\u001b[0m\u001b[0mtimeout\u001b[0m\u001b[1;33m)\u001b[0m\u001b[1;33m)\u001b[0m\u001b[1;33m\u001b[0m\u001b[1;33m\u001b[0m\u001b[0m\n\u001b[0m\u001b[0;32m    834\u001b[0m                 \u001b[1;32melse\u001b[0m\u001b[1;33m:\u001b[0m\u001b[1;33m\u001b[0m\u001b[1;33m\u001b[0m\u001b[0m\n\u001b[0;32m    835\u001b[0m                     \u001b[0mself\u001b[0m\u001b[1;33m.\u001b[0m\u001b[0m_output\u001b[0m\u001b[1;33m.\u001b[0m\u001b[0mextend\u001b[0m\u001b[1;33m(\u001b[0m\u001b[0mjob\u001b[0m\u001b[1;33m.\u001b[0m\u001b[0mget\u001b[0m\u001b[1;33m(\u001b[0m\u001b[1;33m)\u001b[0m\u001b[1;33m)\u001b[0m\u001b[1;33m\u001b[0m\u001b[1;33m\u001b[0m\u001b[0m\n",
      "\u001b[1;32mC:\\ProgramData\\Anaconda3\\lib\\site-packages\\joblib\\_parallel_backends.py\u001b[0m in \u001b[0;36mwrap_future_result\u001b[1;34m(future, timeout)\u001b[0m\n\u001b[0;32m    519\u001b[0m         AsyncResults.get from multiprocessing.\"\"\"\n\u001b[0;32m    520\u001b[0m         \u001b[1;32mtry\u001b[0m\u001b[1;33m:\u001b[0m\u001b[1;33m\u001b[0m\u001b[1;33m\u001b[0m\u001b[0m\n\u001b[1;32m--> 521\u001b[1;33m             \u001b[1;32mreturn\u001b[0m \u001b[0mfuture\u001b[0m\u001b[1;33m.\u001b[0m\u001b[0mresult\u001b[0m\u001b[1;33m(\u001b[0m\u001b[0mtimeout\u001b[0m\u001b[1;33m=\u001b[0m\u001b[0mtimeout\u001b[0m\u001b[1;33m)\u001b[0m\u001b[1;33m\u001b[0m\u001b[1;33m\u001b[0m\u001b[0m\n\u001b[0m\u001b[0;32m    522\u001b[0m         \u001b[1;32mexcept\u001b[0m \u001b[0mLokyTimeoutError\u001b[0m\u001b[1;33m:\u001b[0m\u001b[1;33m\u001b[0m\u001b[1;33m\u001b[0m\u001b[0m\n\u001b[0;32m    523\u001b[0m             \u001b[1;32mraise\u001b[0m \u001b[0mTimeoutError\u001b[0m\u001b[1;33m(\u001b[0m\u001b[1;33m)\u001b[0m\u001b[1;33m\u001b[0m\u001b[1;33m\u001b[0m\u001b[0m\n",
      "\u001b[1;32mC:\\ProgramData\\Anaconda3\\lib\\concurrent\\futures\\_base.py\u001b[0m in \u001b[0;36mresult\u001b[1;34m(self, timeout)\u001b[0m\n\u001b[0;32m    430\u001b[0m                 \u001b[1;32mraise\u001b[0m \u001b[0mCancelledError\u001b[0m\u001b[1;33m(\u001b[0m\u001b[1;33m)\u001b[0m\u001b[1;33m\u001b[0m\u001b[1;33m\u001b[0m\u001b[0m\n\u001b[0;32m    431\u001b[0m             \u001b[1;32melif\u001b[0m \u001b[0mself\u001b[0m\u001b[1;33m.\u001b[0m\u001b[0m_state\u001b[0m \u001b[1;33m==\u001b[0m \u001b[0mFINISHED\u001b[0m\u001b[1;33m:\u001b[0m\u001b[1;33m\u001b[0m\u001b[1;33m\u001b[0m\u001b[0m\n\u001b[1;32m--> 432\u001b[1;33m                 \u001b[1;32mreturn\u001b[0m \u001b[0mself\u001b[0m\u001b[1;33m.\u001b[0m\u001b[0m__get_result\u001b[0m\u001b[1;33m(\u001b[0m\u001b[1;33m)\u001b[0m\u001b[1;33m\u001b[0m\u001b[1;33m\u001b[0m\u001b[0m\n\u001b[0m\u001b[0;32m    433\u001b[0m             \u001b[1;32melse\u001b[0m\u001b[1;33m:\u001b[0m\u001b[1;33m\u001b[0m\u001b[1;33m\u001b[0m\u001b[0m\n\u001b[0;32m    434\u001b[0m                 \u001b[1;32mraise\u001b[0m \u001b[0mTimeoutError\u001b[0m\u001b[1;33m(\u001b[0m\u001b[1;33m)\u001b[0m\u001b[1;33m\u001b[0m\u001b[1;33m\u001b[0m\u001b[0m\n",
      "\u001b[1;32mC:\\ProgramData\\Anaconda3\\lib\\concurrent\\futures\\_base.py\u001b[0m in \u001b[0;36m__get_result\u001b[1;34m(self)\u001b[0m\n\u001b[0;32m    382\u001b[0m     \u001b[1;32mdef\u001b[0m \u001b[0m__get_result\u001b[0m\u001b[1;33m(\u001b[0m\u001b[0mself\u001b[0m\u001b[1;33m)\u001b[0m\u001b[1;33m:\u001b[0m\u001b[1;33m\u001b[0m\u001b[1;33m\u001b[0m\u001b[0m\n\u001b[0;32m    383\u001b[0m         \u001b[1;32mif\u001b[0m \u001b[0mself\u001b[0m\u001b[1;33m.\u001b[0m\u001b[0m_exception\u001b[0m\u001b[1;33m:\u001b[0m\u001b[1;33m\u001b[0m\u001b[1;33m\u001b[0m\u001b[0m\n\u001b[1;32m--> 384\u001b[1;33m             \u001b[1;32mraise\u001b[0m \u001b[0mself\u001b[0m\u001b[1;33m.\u001b[0m\u001b[0m_exception\u001b[0m\u001b[1;33m\u001b[0m\u001b[1;33m\u001b[0m\u001b[0m\n\u001b[0m\u001b[0;32m    385\u001b[0m         \u001b[1;32melse\u001b[0m\u001b[1;33m:\u001b[0m\u001b[1;33m\u001b[0m\u001b[1;33m\u001b[0m\u001b[0m\n\u001b[0;32m    386\u001b[0m             \u001b[1;32mreturn\u001b[0m \u001b[0mself\u001b[0m\u001b[1;33m.\u001b[0m\u001b[0m_result\u001b[0m\u001b[1;33m\u001b[0m\u001b[1;33m\u001b[0m\u001b[0m\n",
      "\u001b[1;31mTypeError\u001b[0m: act_solver() missing 1 required positional argument: 'electrode'"
     ]
    }
   ],
   "source": [
    "## Simulation to Generate Data\n",
    "\n",
    "# load & Preprocess Image\n",
    "img = load_raw_img(os.getcwd()+\"\\pics\\\\nature_pic.jpg\")\n",
    "ret_data = load_raw_data('dict2.mat')\n",
    "\n",
    "## Run Simulation\n",
    "run_sim = True\n",
    "run_conv_sim    = False\n",
    "run_photo_sweep = False\n",
    "### Simulation Parameters\n",
    "stixel_dims = (20,20)  # Pixel Dimensions of Retinal STA \n",
    "num_stims = -1    # Number of Allowable stimulations\n",
    "electrode = False  # Solve for Electrode-Dictionary Reconstruction or Optimal Cellular Activity\n",
    "max_act  = 100     # Maximum cell activity for time window\n",
    "\n",
    "### Psychophysical Parameters\n",
    "smps = 5.5              # Stimulus Monitor Pixel Size in micrometers\n",
    "stixel_size = 8          # Stixel Size (number of monitor pixels per stimulus pixel)\n",
    "eccentricity = 20       # Eccentricity from Fovea of Tissue Center\n",
    "eye_diam = 24            # Diameter of Eye in milimeters\n",
    "obj_vis_ang = (120,100)   # Size of VIsualField of View (degrees)\n",
    "L  = 350                # L Luminance (cd/m2) of object\n",
    "k = 3                   # Psychometric constant (minimum detection signal to noise ratio)\n",
    "T = 100                 # Integration time of the eye (in msec)\n",
    "Ng0 = 36000             # RGC Density at fovea (cells/deg^2)\n",
    "eg  = 3                 # Subject-dependent  Cell Density Constant (deg)\n",
    "elec_vis_ang = get_elec_angs(stixel_dims, smps, stixel_size, eye_diam)\n",
    "# pupil diameter (mm)\n",
    "# for now calculate as function of luminance, in future can be measured directly via eye tracking\n",
    "pupil_diam  = 5 - 3 * np.tanh( .4*np.log(L*obj_vis_ang[0]*obj_vis_ang[1]/1600))\n",
    "\n",
    "params = Parameters.empty()\n",
    "# psychophysical parameters\n",
    "params.L = L\n",
    "params.vis_ang_horz = obj_vis_ang[0]\n",
    "params.vis_ang_vert = obj_vis_ang[1]\n",
    "params.pupil_diam = pupil_diam\n",
    "params.e = eccentricity\n",
    "# compute the  visual angle spanned by the electrode array \n",
    "params.elec_ang_horz = elec_vis_ang[0]\n",
    "params.elec_ang_vert = elec_vis_ang[1]\n",
    "params.binocular = True\n",
    "params.k = k\n",
    "params.T = T/1000\n",
    "params.Ng0 = Ng0    \n",
    "params.eg = eg\n",
    "# simulation parameters\n",
    "params.A = ret_data.A\n",
    "params.P = ret_data.P\n",
    "params.e_map = ret_data.e_map\n",
    "params.e_locs = ret_data.e_locs\n",
    "params.num_cells = ret_data.A.shape[1]\n",
    "params.num_stixels = ret_data.num_stixels\n",
    "params.stixel_dims = stixel_dims\n",
    "params.num_stims = num_stims\n",
    "params.max_act = max_act\n",
    "params.electrode = electrode\n",
    "\n",
    "selec_dims = get_selection_dims(params, img.shape)\n",
    "print('%i x %i degrees of visual angle is %i x %i pixels of the original image.'\n",
    "      %(params.elec_ang_horz,params.elec_ang_vert, selec_dims[0],selec_dims[1]))\n",
    "\n",
    "\n",
    "# Run the Simulation \n",
    "if run_sim:\n",
    "    img_data = preprocess_img(img, params)\n",
    "    sim_data    =  metric_compar(img_data,params)\n",
    "    \n",
    "if run_conv_sim:\n",
    "    img_data = preprocess_img(img,params)\n",
    "    stim_sweep_data = num_stim_sweep(img_data,params)\n",
    "        \n",
    "if run_photo_sweep:\n",
    "    data_set = {}\n",
    "    img_list = os.listdir('./pics')\n",
    "    num_pics = len(img_list)\n",
    "    data_set[\"num_pics\"] = num_pics\n",
    "    for i in np.arange(num_pics):\n",
    "        img = load_raw_img('./pics/'+img_list[i])\n",
    "        print('Running Simulation %i/%i'%(i+1, num_pics))\n",
    "        data_set[\"img_data_\"+str(i)] = preprocess_img(img,params)\n",
    "        data_set[\"sim_data_\"+str(i)] = metric_compar(data_set[\"img_data_\"+str(i)],params)\n",
    "        \n"
   ]
  },
  {
   "cell_type": "code",
   "execution_count": null,
   "metadata": {
    "code_folding": [
     0
    ]
   },
   "outputs": [],
   "source": [
    "## single image comparison\n",
    "%matplotlib notebook\n",
    "vmax = np.max(img)\n",
    "vmin = np.min(img)\n",
    "plt.rcParams[\"figure.figsize\"] = [16,9]\n",
    "Tidx = 15\n",
    "imgNum = 980\n",
    "cmode = 'RMS' #use RMS (standard deviation) contrast for comparison\n",
    "\n",
    "origIm = np.reshape(img_data.img_set[:,imgNum],pixel_dims,order='F')\n",
    "mseRec = np.reshape(sim_data.imgs_mse[:,imgNum],pixel_dims,order='F')\n",
    "wmsRec = np.reshape(sim_data.imgs_wms[:,imgNum],pixel_dims,order='F')\n",
    "ssmRec = np.reshape(sim_data.imgs_ssm[:,imgNum],pixel_dims,order='F')\n",
    "\n",
    "plt.figure()\n",
    "plt.imshow(origIm,cmap='bone',vmax=vmax,vmin=vmin)\n",
    "plt.axis('off')\n",
    "plt.title(\"Original Image, Contrast = %f\"%contrast(origIm,cmode))\n",
    "plt.savefig('Original.jpg',bbox_inches='tight')\n",
    "plt.show()\n",
    "\n",
    "plt.figure()\n",
    "plt.imshow(mseRec,cmap='bone',vmax=vmax,vmin=vmin)\n",
    "plt.axis('off')\n",
    "plt.title(\"MSE Optimal Reconstruction, Contrast = %f\"%contrast(mseRec,cmode))\n",
    "plt.savefig('MSERecons.jpg',bbox_inches='tight')\n",
    "\n",
    "\n",
    "plt.figure()\n",
    "plt.imshow(wmsRec,cmap='bone',vmax=vmax,vmin=vmin)\n",
    "plt.axis('off')\n",
    "plt.title(\"wMSE Optimal Reconstruction, Contrast = %f\"%contrast(wmsRec,cmode))\n",
    "plt.savefig('wMSRecons.jpg',bbox_inches='tight')\n",
    "\n",
    "\n",
    "plt.figure()\n",
    "plt.imshow(ssmRec,cmap='bone',vmax=vmax,vmin=vmin)\n",
    "plt.axis('off')\n",
    "plt.title(\"SSIM Optimal Reconstruction, Contrast = %f\"%contrast(ssmRec,cmode))\n",
    "plt.savefig('SSMRecons.jpg',bbox_inches='tight')\n",
    "\n"
   ]
  },
  {
   "cell_type": "code",
   "execution_count": null,
   "metadata": {
    "code_folding": [
     0
    ]
   },
   "outputs": [],
   "source": [
    "## display entire visual scene tiled by reconstructions for each error metric\n",
    "cmode='rms'\n",
    "\n",
    "num_pics = 14\n",
    "for i in np.arange(num_pics):\n",
    "    img_data = data_set[\"img_data_\"+str(i)]\n",
    "    sim_data = data_set[\"sim_data_\"+str(i)]\n",
    "    vmax = np.max(img_data.resampled_img)\n",
    "    vmin = np.min(img_data.resampled_img)\n",
    "\n",
    "    plt.figure()\n",
    "    plt.imshow(img_data.resampled_img,cmap='bone',vmax=vmax,vmin=vmin)\n",
    "    plt.axis('off')\n",
    "    plt.title('Original Visual Scene, Contrast = %f'%contrast(img_data.orig_img,cmode))\n",
    "    plt.savefig('./reconstructions/vis_scene_orig_%i.jpg'%i,bbox_inches='tight')\n",
    "    plt.show()\n",
    "\n",
    "    plt.figure()\n",
    "    plt.imshow(sim_data.recons_mse,cmap='bone',vmax=vmax,vmin=vmin)\n",
    "    plt.axis('off')\n",
    "    plt.title('MSE-Optimal Reconstructed Visual Scene, Contrast = %f'%contrast(sim_data.recons_mse,cmode))\n",
    "    plt.savefig('./reconstructions/vis_scene_rec_mse_%i.jpg'%i,bbox_inches='tight')\n",
    "\n",
    "    plt.figure()\n",
    "    plt.imshow(sim_data.recons_wms,cmap='bone',vmax=vmax,vmin=vmin)\n",
    "    plt.axis('off')\n",
    "    plt.title('wMSE-Optimal Reconstructed Visual Scene, Contrast = %f'%contrast(sim_data.recons_wms,cmode))\n",
    "    plt.savefig('./reconstructions/vis_scene_rec_wms_%i.jpg'%i,bbox_inches='tight')\n",
    "\n",
    "    plt.figure()\n",
    "    plt.imshow(sim_data.recons_ssm,cmap='bone',vmax=vmax,vmin=vmin)\n",
    "    plt.axis('off')\n",
    "    plt.title('SSIM-Optimal Reconstructed Visual Scene, Contrast = %f'%contrast(sim_data.recons_ssm,cmode))\n",
    "    plt.savefig('./reconstructions/vis_scene_rec_ssm_%i.jpg'%i,bbox_inches='tight')"
   ]
  },
  {
   "cell_type": "code",
   "execution_count": null,
   "metadata": {
    "code_folding": [
     0
    ],
    "scrolled": true
   },
   "outputs": [],
   "source": [
    "## scatter plot of contrasts\n",
    "\n",
    "def get_conts_vec(imgs, cont_mode ='rms'):\n",
    "    # given a set (num_pixel x num_imgs)  of images, return a num_imgs vector of the contrast\n",
    "    # values for all those images specified by mode\n",
    "    num_imgs = imgs.shape[1]\n",
    "    conts = np.zeros((num_imgs,))\n",
    "    for i in np.arange(num_imgs):\n",
    "        conts[i] = contrast(imgs[:,i],cont_mode)\n",
    "    return conts\n",
    "\n",
    "img_list = os.listdir('./pics')\n",
    "num_pics = len(img_list)\n",
    "\n",
    "                            \n",
    "plt.figure(figsize=(16,9))\n",
    "a_point = 1\n",
    "s = 1\n",
    "img_nums = np.arange(data_set[\"img_data_0\"].num_imgs)+1\n",
    "\n",
    "%matplotlib notebook\n",
    "#num_pics = data_set['num_pics']\n",
    "sim_data = data_set[\"sim_data_0\"]\n",
    "conts_mat_mse = get_conts_vec(sim_data.imgs_mse)\n",
    "conts_mat_wms = get_conts_vec(sim_data.imgs_wms)\n",
    "conts_mat_ssm = get_conts_vec(sim_data.imgs_ssm)\n",
    "\n",
    "for i in np.arange(num_pics-1)+1:\n",
    "    sim_data = data_set[\"sim_data_\"+str(i)]\n",
    "    conts_mse = get_conts_vec(sim_data.imgs_mse)\n",
    "    conts_wms = get_conts_vec(sim_data.imgs_wms)\n",
    "    conts_ssm = get_conts_vec(sim_data.imgs_ssm) \n",
    "    \n",
    "    conts_mat_mse = np.hstack((conts_mat_mse,conts_mse))\n",
    "    conts_mat_wms = np.hstack((conts_mat_wms,conts_wms))\n",
    "    conts_mat_ssm = np.hstack((conts_mat_ssm,conts_ssm))\n",
    "\n",
    "plt.scatter(conts_mat_ssm,conts_mat_mse,label='MSE Reconstructions',s=s,alpha=a_point,marker='.')\n",
    "plt.scatter(conts_mat_ssm,conts_mat_wms,label='wMSE Reconstructions',s=s,alpha=a_point,marker='.')\n",
    "plt.scatter(conts_mat_ssm,conts_mat_ssm,label='SSIM Reconstructions',s=s,alpha=a_point,marker='.')\n",
    "plt.title(\"MSE and wMSE Contrasts vs. SSIM Contrasts \\n Data from 14 Natural Scenes\")\n",
    "plt.xlabel('RMS Contrast of SSIM Image Reconstruction')\n",
    "plt.ylabel('RMS Contrast of Image Reconstruction')\n",
    "plt.legend()\n",
    "plt.savefig('conts_vs_ssm.jpg',bbox_inches='tight')\n",
    "\n",
    "\n",
    "#report correlation coefficients of each variable:\n",
    "mse_v_wms_v_ssm_conts = np.vstack((conts_mse,conts_wms,conts_ssm))\n",
    "corr_coeffs = np.corrcoef(mse_v_wms_v_ssm_conts)\n",
    "print((corr_coeffs))\n",
    "\n",
    "print(np.sqrt((conts_mat_wms-conts_mat_ssm).T@(conts_mat_wms-conts_mat_ssm)/conts_mat_mse.size))\n",
    "print(np.sqrt((conts_mat_ssm-conts_mat_mse).T@(conts_mat_ssm-conts_mat_mse)/conts_mat_mse.size))\n",
    "\n"
   ]
  },
  {
   "cell_type": "code",
   "execution_count": null,
   "metadata": {
    "code_folding": [
     0
    ]
   },
   "outputs": [],
   "source": [
    "## single image cellular activity comparison\n",
    "plt.figure(figsize= (16,3))\n",
    "cellNums = np.arange(sim_data.acts_mse[:,imgNum].size) + 1\n",
    "plt.plot(cellNums,sim_data.acts_mse[:,imgNum],'-',c='r',alpha=.3)\n",
    "plt.plot(cellNums,sim_data.acts_wms[:,imgNum],'-',c='g',alpha=.3)\n",
    "plt.plot(cellNums,sim_data.acts_ssm[:,imgNum],'-',c='b',alpha=.3)\n",
    "plt.plot(cellNums,sim_data.acts_mse[:,imgNum],'.',c='r',label='MSE-Optimal Activity, Total Spikes = %i'%np.sum(sim_data.acts_mse[:,imgNum]))\n",
    "plt.plot(cellNums,sim_data.acts_wms[:,imgNum],'.',c='g',label='wMSE-Optimal Activity, Total Spikes = %i'%np.sum(sim_data.acts_wms[:,imgNum]))\n",
    "plt.plot(cellNums,sim_data.acts_ssm[:,imgNum],'.',c='b',label='SSIM-Optimal Activity, Total Spikes = %i'%np.sum(sim_data.acts_ssm[:,imgNum]))\n",
    "plt.xlabel('Cell Number')\n",
    "plt.xticks(np.arange(min(cellNums), max(cellNums), 5)+1)\n",
    "plt.ylabel('Number of Spikes in Optimal Reconstruction')\n",
    "plt.title('Optimal Cellular Activity for Single Image')\n",
    "plt.legend()\n",
    "plt.savefig('SingleImageCellActComp.jpg',bbox_inches='tight')\n",
    "\n",
    "\n"
   ]
  },
  {
   "cell_type": "code",
   "execution_count": null,
   "metadata": {
    "code_folding": [
     0
    ],
    "scrolled": true
   },
   "outputs": [],
   "source": [
    "#radial plot of image reconstructions \n",
    "a = .05\n",
    "r_lim = 1000\n",
    "plt.figure(figsize=(10,10))\n",
    "act_angle_plot(sim_data.acts_mse,sim_data.acts_wms,'wMSE',r_lim, a=a)\n",
    "plt.savefig('mseVSwmsAng.jpg',bbox_inches='tight')\n",
    "\n",
    "\n",
    "plt.figure(figsize=(10,10))\n",
    "act_angle_plot(sim_data.acts_mse,sim_data.acts_ssm,'SSIM',r_lim, a=a)\n",
    "plt.savefig('mseVSssmAng.jpg',bbox_inches='tight')\n",
    "\n",
    "\n",
    "\n",
    "\n",
    "\n"
   ]
  },
  {
   "cell_type": "code",
   "execution_count": null,
   "metadata": {
    "code_folding": [
     0
    ],
    "scrolled": true
   },
   "outputs": [],
   "source": [
    "## count number of on parasol cells and off parasol cells spikes for each metric\n",
    "# do the ratio of cell type selections change according to error metric? \n",
    "\n",
    "# #first identify which cells are on and which are off\n",
    "# # On = cells 0 - 39, off = cells 40::\n",
    "# off_cell_start = 40\n",
    "# # then go through each image activity and calculate the number of on spikes and number of off spikes\n",
    "# spikes_on_mse = np.zeros((imgData.numImgs,))\n",
    "# spikes_off_mse = np.zeros((imgData.numImgs,))\n",
    "\n",
    "# spikes_on_ssm = np.zeros((imgData.numImgs,))\n",
    "# spikes_off_ssm = np.zeros((imgData.numImgs,))\n",
    "\n",
    "# spikes_on_wms = np.zeros((imgData.numImgs,))\n",
    "# spikes_off_wms = np.zeros((imgData.numImgs,))\n",
    "# for i in np.arange(imgData.numImgs):\n",
    "#     spikes_on_mse[i] = np.sum(simData.mseActs[0:off_cell_start-1,i])\n",
    "#     spikes_off_mse[i]  =  np.sum(simData.mseActs[off_cell_start:,i])\n",
    "\n",
    "#     spikes_on_wms[i] = np.sum(simData.wmsActs[0:off_cell_start-1,i])\n",
    "#     spikes_off_wms[i]  =  np.sum(simData.wmsActs[off_cell_start:,i])\n",
    "      \n",
    "#     spikes_on_ssm[i] = np.sum(simData.ssmActs[0:off_cell_start-1,i])\n",
    "#     spikes_off_ssm[i]  =  np.sum(simData.ssmActs[off_cell_start:,i])\n",
    "    \n",
    "# #  # for an image, calculate the ratio of on to off, do so for all images, for all error metric sets,\n",
    "# plt.figure()\n",
    "# plt.scatter(spikes_on_mse,spikes_off_mse,label=\"MSE\",alpha=.5)\n",
    "# plt.scatter(spikes_on_wms,spikes_off_wms,label=\"wMSE\",alpha=.5)\n",
    "# plt.scatter(spikes_on_ssm,spikes_off_ssm,label=\"SSIM\",alpha=.5)\n",
    "# plt.legend()\n",
    "\n",
    "# ratio_mse = np.divide(spikes_on_mse, spikes_off_mse)\n",
    "# ratio_wms = np.divide(spikes_on_wms, spikes_off_wms)\n",
    "# ratio_ssm = np.divide(spikes_on_ssm, spikes_off_ssm)\n",
    "\n",
    "# plt.figure()\n",
    "# plt.scatter(ratio_mse,ratio_wms,label='MSE vs WMS Ratio',alpha=.1)\n",
    "# plt.scatter(ratio_mse,ratio_ssm,label='MSE vs SSIM Ratio',alpha=.1)\n",
    "\n",
    "# or, for each image, calculate ratio ssim/wmse on to mse on, and ratio ssim/wmse off to mse off and plot on scatter axis.\n",
    "# on_ratio_mse_ssm = np.divide(spikes_on_ssm,spikes_on_mse)\n",
    "\n",
    "# off_ratio_mse_ssm = np.divide(spikes_off_ssm,spikes_off_mse)\n",
    "# plt.figure()\n",
    "# plt.scatter(on_ratio_mse_ssm)\n",
    "# #plt.scatter(on_ratio_mse_ssm,off_ratio_mse_ssm,alpha=.2,label='SSIM / ')\n",
    "\n",
    "# # on_ratio_mse_wms = np.divide(spikes_on_wms,spikes_on_mse)\n",
    "# # off_ratio_mse_wms = np.divide(spikes_off_wms,spikes_off_mse)\n",
    "# # plt.scatter(on_ratio_mse_wms,off_ratio_mse_wms,alpha=.2)\n",
    "# plt.show()\n",
    "\n"
   ]
  },
  {
   "cell_type": "code",
   "execution_count": null,
   "metadata": {
    "code_folding": [
     0
    ]
   },
   "outputs": [],
   "source": [
    "## spike divergence histograms\n",
    "\n",
    "\n",
    "plt.figure(figsize=(16,9))\n",
    "\n",
    "sums_mse = np.sum(sim_data.acts_mse,0)\n",
    "sums_ssm = np.sum(sim_data.acts_ssm,0)\n",
    "percs_ssm = 100*np.divide(sums_ssm-sums_mse,sums_mse)\n",
    "bins = np.linspace(0, 250, 100)\n",
    "plt.hist(percs_ssm,bins=bins,label=\"Average = %f\"%np.mean(percs_ssm),alpha=1,color=\"black\")\n",
    "plt.axvline(x=np.mean(percs_ssm),color='black')\n",
    "plt.title('Histogram of SSIM-MSE Spike Divergence Across Image Set',fontSize=18)\n",
    "plt.xlabel('Percent Difference of Total Spikes',fontsize=18)\n",
    "plt.ylabel('Number of Images',fontsize=18)\n",
    "plt.legend()\n",
    "plt.savefig('divergence_hist_mse_ssm.jpg',bbox_inches='tight')\n",
    "plt.show()\n",
    "    \n",
    "\n",
    "plt.figure()\n",
    "sums_mse = np.sum(sim_data.acts_mse,0)\n",
    "sums_wms = np.sum(sim_data.acts_wms,0)\n",
    "percs_wms = 100*np.divide(sums_wms-sums_mse,sums_mse)\n",
    "bins = np.linspace(0, 250, 100)\n",
    "plt.hist(percs_wms,bins=bins,label=\"Average = %f\"%np.mean(percs_wms),alpha=1,color=\"black\")\n",
    "plt.axvline(x=np.mean(percs_wms),color='black')\n",
    "plt.title('Histogram of wMSE-MSE Spike Divergence Across Image Set',fontSize=18)\n",
    "plt.xlabel('Percent Difference of Total Spikes',fontsize=18)\n",
    "plt.ylabel('Number of Images',fontsize=18)\n",
    "plt.legend()\n",
    "plt.savefig('divergence_hist_mse_wms.jpg',bbox_inches='tight')\n",
    "plt.show()\n",
    "\n",
    "\n"
   ]
  },
  {
   "cell_type": "code",
   "execution_count": null,
   "metadata": {
    "code_folding": [
     0
    ],
    "scrolled": true
   },
   "outputs": [],
   "source": [
    "## total number of spikes for each image for each metric,\n",
    "img_list = os.listdir('./pics')\n",
    "num_pics = len(img_list)\n",
    "\n",
    "\n",
    "%matplotlib notebook\n",
    "#num_pics = data_set['num_pics']\n",
    "sim_data = data_set[\"sim_data_0\"]\n",
    "spikes_mat_mse = np.sum(sim_data.acts_mse,0)\n",
    "spikes_mat_wms = np.sum(sim_data.acts_wms,0)\n",
    "spikes_mat_ssm = np.sum(sim_data.acts_ssm,0)\n",
    "for i in np.arange(num_pics-1)+1:\n",
    "    sim_data = data_set[\"sim_data_\"+str(i)]\n",
    "    spikes_mse = np.sum(sim_data.acts_mse,0)\n",
    "    spikes_wms = np.sum(sim_data.acts_wms,0)\n",
    "    spikes_ssm = np.sum(sim_data.acts_ssm,0)\n",
    "                            \n",
    "    spikes_mat_mse = np.hstack((spikes_mat_mse,spikes_mse))\n",
    "    spikes_mat_wms = np.hstack((spikes_mat_wms,spikes_wms))\n",
    "    spikes_mat_ssm = np.hstack((spikes_mat_ssm,spikes_ssm))\n",
    "    \n",
    "                            \n",
    "\n",
    "a_point = 1\n",
    "s = 1\n",
    "\n",
    "\n",
    "\n",
    "plt.figure(figsize=(16,9))\n",
    "plt.title(\"MSE and wMSE Spike Totals vs. SSIM Spike Totals \\n Data from 14 Natural Scenes\")\n",
    "plt.xlabel('Number of Spikes for SSIM Image Reconstruction')\n",
    "plt.ylabel('Number of Spikes Required for Image Reconstruction')\n",
    "plt.scatter(spikes_mat_ssm,spikes_mat_mse,s=s,alpha=a_point,marker='.',label='MSE Reconstructions')\n",
    "plt.scatter(spikes_mat_ssm,spikes_mat_wms,label='wMSE Reconstructions',s=s,alpha=a_point,marker='.')\n",
    "plt.scatter(spikes_mat_ssm,spikes_mat_ssm,label='SSIM Reconstructions',s=s,alpha=a_point,marker='.')\n",
    "plt.legend()\n",
    "plt.savefig('num_spikes_sorted_ssm.jpg',bbox_inches='tight')\n",
    "\n",
    "\n",
    "# report correlation coefficients of each variable:\n",
    "mse_v_wms_v_ssm_acts = np.vstack((spikes_mat_mse,spikes_mat_wms,spikes_mat_ssm))\n",
    "corr_coeffs = np.corrcoef(mse_v_wms_v_ssm_acts)\n",
    "print(np.round(corr_coeffs,2))\n",
    "\n",
    "print(np.sqrt((spikes_mat_wms-spikes_mat_ssm).T@(spikes_mat_wms-spikes_mat_ssm)/spikes_mat_ssm.size))\n",
    "print(np.sqrt((spikes_mat_ssm-spikes_mat_mse).T@(spikes_mat_ssm-spikes_mat_mse)/spikes_mat_mse.size))\n"
   ]
  },
  {
   "cell_type": "code",
   "execution_count": null,
   "metadata": {
    "code_folding": [
     0
    ],
    "scrolled": true
   },
   "outputs": [],
   "source": [
    "## plot contrast/ numspikes for each metric\n",
    "from scipy import stats\n",
    "xs = np.linspace(np.min(spikes_mat_ssm),np.max(spikes_mat_ssm),1000)\n",
    "\n",
    "a = 1\n",
    "s = .05\n",
    "plt.figure(figsize=(16,9))\n",
    "plt.scatter(spikes_mat_mse,conts_mat_mse,label='MSE',alpha=a,s=s,c='#1f77b4')\n",
    "\n",
    "\n",
    "plt.scatter(spikes_mat_wms,conts_mat_wms,label='wMSE',alpha=a,s=s,c='#ff7f0e')\n",
    "\n",
    "plt.scatter(spikes_mat_ssm,conts_mat_ssm,label='SSIM',alpha=a,s=s,c='#2ca02c')\n",
    "plt.show()\n",
    "\n",
    "\n",
    "plt.title('Image RMS Contrast vs. Number of Spikes used in Reconstruction')\n",
    "plt.xlabel('Total Number of Spikes in Optimal Reconstruction \\n Data from 14 Natural Scenes')\n",
    "plt.ylabel('RMS Image Contrast')\n",
    "plt.savefig('Contrast_vs_num_spikes.jpg',bbox_inches='tight')\n",
    "plt.show()\n",
    "\n",
    "slope, intercept, r_value, p_value, std_err = stats.linregress(spikes_mat_mse,conts_mat_mse)\n",
    "\n",
    "\n",
    "\n",
    "mse_corr = np.corrcoef(np.vstack((spikes_mat_mse,conts_mat_mse)))\n",
    "wms_corr = np.corrcoef(np.vstack((spikes_mat_wms,conts_mat_wms)))\n",
    "ssm_corr = np.corrcoef(np.vstack((spikes_mat_ssm,conts_mat_ssm)))\n",
    "print(mse_corr)\n",
    "print(wms_corr)\n",
    "print(ssm_corr)"
   ]
  },
  {
   "cell_type": "code",
   "execution_count": null,
   "metadata": {
    "code_folding": [
     0
    ],
    "scrolled": false
   },
   "outputs": [],
   "source": [
    "# ## remove top percentile spike diverging images from scene for wMSE and SSIM and compare\n",
    "diffs_mse_ssm = sums_ssm-sums_mse\n",
    "diffs_mse_wms = sums_wms-sums_mse\n",
    "threshold = 400 \n",
    "\n",
    "diff_ssm = []\n",
    "diff_wms = []\n",
    "for i in np.arange(img_data.num_imgs):\n",
    "    if diffs_mse_ssm[i] < threshold:\n",
    "        diff_ssm.append(i)\n",
    "    if diffs_mse_wms[i] < threshold:\n",
    "        diff_wms.append(i)\n",
    "        \n",
    "        \n",
    "ssm_copy = copy.deepcopy(img_data.orig_img)\n",
    "wms_copy = copy.deepcopy(img_data.orig_img)\n",
    "\n",
    "# remove diff_ssm image sfrom ssm_copy\n",
    "dx = 34\n",
    "dy = dx\n",
    "for i in np.arange(len(diff_ssm)):\n",
    "    x = int(img_data.xs[diff_ssm[i]])\n",
    "    y = int(img_data.ys[diff_ssm[i]])\n",
    "    ssm_copy[x:x+dx,y:y+dy] = 1\n",
    "    \n",
    "for i in np.arange(len(diff_wms)):\n",
    "    x = int(img_data.xs[diff_wms[i]])\n",
    "    y = int(img_data.ys[diff_ssm[i]])\n",
    "    wms_copy[x:x+dx,y:y+dy] = 1\n",
    "\n",
    "plt.figure()\n",
    "plt.imshow(ssm_copy,cmap='bone',vmax=vmax,vmin=vmin)\n",
    "plt.show()\n",
    "\n",
    "plt.figure()\n",
    "plt.imshow(wms_copy,cmap='bone',vmax=vmax,vmin=vmin)\n",
    "plt.show()\n"
   ]
  },
  {
   "cell_type": "code",
   "execution_count": null,
   "metadata": {
    "code_folding": [
     0
    ]
   },
   "outputs": [],
   "source": [
    "# spike divergence versus reference image contrast scatter plot\n",
    "diffs_mse_ssm = sums_ssm-sums_mse\n",
    "diffs_mse_wms = sums_wms-sums_mse\n",
    "\n",
    "# for each image, \n",
    "conts_ref = np.zeros((img_data.num_imgs,))\n",
    "for i in np.arange(img_data.num_imgs):\n",
    "    # calculate the rms contrast of the reference image\n",
    "    conts_ref[i] = contrast(img_data.img_set[:,i],'rms')\n",
    "\n",
    "    \n",
    "# scatter plot \n",
    "plt.figure()\n",
    "plt.scatter(conts_ref,diffs_mse_ssm,label='SSIM Reconstructions')\n",
    "plt.scatter(conts_ref,diffs_mse_wms,label='wMSE Reconstruction')\n",
    "plt.show()"
   ]
  },
  {
   "cell_type": "code",
   "execution_count": null,
   "metadata": {
    "code_folding": [
     0
    ]
   },
   "outputs": [],
   "source": [
    "## relative error vs number of allowed stimulations \n",
    "plt.figure()\n",
    "plot_stim_comparison(img_data, stim_sweep_data, \"MSE\", psych_params, (20,20))\n",
    "plt.savefig(\"RelativeMSEConv.jpg\",bbox_inches='tight')\n",
    "\n",
    "plt.figure()\n",
    "plot_stim_comparison(img_data, stim_sweep_data, \"wMS\", psych_params, (20,20))\n",
    "plt.savefig(\"RelativewMSConv.jpg\",bbox_inches='tight')\n",
    "\n",
    "plt.figure()\n",
    "plot_stim_comparison(img_data, stim_sweep_data, \"SSIM\", psych_params, (20,20))\n",
    "plt.savefig(\"RelativeSSMConv.jpg\",bbox_inches='tight')\n"
   ]
  },
  {
   "cell_type": "code",
   "execution_count": null,
   "metadata": {
    "code_folding": [
     0
    ]
   },
   "outputs": [],
   "source": [
    "## single image comparison for numStims ~ 500\n",
    "\n",
    "Tidx = 6\n",
    "img_num = 980\n",
    "\n",
    "origIm = np.reshape(img_data.img_set[:,img_num],pixel_dims,order='F')\n",
    "mseRec = np.reshape(stim_sweep_data.img_set_mse[Tidx,:,img_num],pixel_dims,order='F')\n",
    "wmsRec = np.reshape(stim_sweep_data.img_set_wms[Tidx,:,img_num],pixel_dims,order='F')\n",
    "ssmRec = np.reshape(stim_sweep_data.img_set_ssm[Tidx,:,img_num],pixel_dims,order='F')\n",
    "\n",
    "plt.figure()\n",
    "plt.imshow(origIm,cmap='bone',vmax=.5,vmin=-.5)\n",
    "plt.axis('off')\n",
    "plt.title(\"Original Image\")\n",
    "plt.savefig('OriginalDistorted.jpg',bbox_inches='tight')\n",
    "plt.show()\n",
    "\n",
    "\n",
    "plt.figure()\n",
    "plt.imshow(mseRec,cmap='bone',vmax=.5,vmin=-.5)\n",
    "plt.axis('off')\n",
    "plt.title(\"MSE Distorted Reconstruction\")\n",
    "plt.savefig('MSEReconsDistorted.jpg',bbox_inches='tight')\n",
    "\n",
    "\n",
    "plt.figure()\n",
    "plt.imshow(wmsRec,cmap='bone',vmax=.5,vmin=-.5)\n",
    "plt.axis('off')\n",
    "plt.title(\"wMSE Distorted Reconstruction\")\n",
    "plt.savefig('wMSReconsDistorted.jpg',bbox_inches='tight')\n",
    "\n",
    "\n",
    "plt.figure()\n",
    "plt.imshow(ssmRec,cmap='bone',vmax=.5,vmin=-.5)\n",
    "plt.axis('off')\n",
    "plt.title(\"SSIM Distorted Reconstruction\")\n",
    "plt.savefig('SSMReconsDistorted.jpg',bbox_inches='tight')\n",
    "\n"
   ]
  },
  {
   "cell_type": "code",
   "execution_count": null,
   "metadata": {
    "code_folding": [
     0
    ],
    "scrolled": true
   },
   "outputs": [],
   "source": [
    "## display entire distorted visual scene tiled by reconstructions for each error metric\n",
    "plt.figure()\n",
    "plt.imshow(img_data.resampled_img,cmap='bone',vmax=vmax,vmin=vmin)\n",
    "plt.axis('off')\n",
    "plt.title('Original Visual Scene')\n",
    "plt.savefig('OrigVisSceneDist.jpg',bbox_inches='tight')\n",
    "plt.show()\n",
    "\n",
    "plt.figure()\n",
    "plt.imshow(stim_sweep_data.rec_set_mse[Tidx],cmap='bone',vmax=vmax,vmin=vmin)\n",
    "plt.axis('off')\n",
    "plt.title('MSE-Distorted Reconstructed Visual Scene')\n",
    "plt.savefig('MSEVisSceneDist.jpg',bbox_inches='tight')\n",
    "\n",
    "plt.figure()\n",
    "plt.imshow(stim_sweep_data.rec_set_wms[Tidx],cmap='bone',vmax=vmax,vmin=vmin)\n",
    "plt.axis('off')\n",
    "plt.title('wMSE-Distorted Reconstructed Visual Scene')\n",
    "plt.savefig('wMSVisSceneDist.jpg',bbox_inches='tight')\n",
    "\n",
    "plt.figure()\n",
    "plt.imshow(stim_sweep_data.rec_set_ssm[Tidx],cmap='bone',vmax=vmax,vmin=vmin)\n",
    "plt.axis('off')\n",
    "plt.title('SSIM-Dist Reconstructed Visual Scene')\n",
    "plt.savefig('SSMVisSceneDist.jpg',bbox_inches='tight')"
   ]
  },
  {
   "cell_type": "code",
   "execution_count": null,
   "metadata": {
    "code_folding": [
     0
    ]
   },
   "outputs": [],
   "source": [
    "## plot the frequency weighting mask\n",
    "XO = psychParams[\"XO\"]\n",
    "\n",
    "psychParams[\"e\"] = 20\n",
    "N  =  int(imgData.origImg.shape[0]/imgData.sDims[0]) # number of selection blocks (number of samples of DC terms of each subImage)\n",
    "offset = (1/2) * (N / XO)\n",
    "Wp = csf(psychParams,pixelDims,offset=offset) #offset frequency b\n",
    "\n",
    "\n",
    "sfRes = 1/20\n",
    "ppd = 20/psychParams[\"elecXO\"]\n",
    "fs = (sfRes * ppd *(np.arange(20) )) + offset\n",
    "fs = np.round(fs,1)\n",
    "ticks = np.arange(0,20,4)\n",
    "labels = fs[np.arange(0,20,4)]\n",
    "      \n",
    "plt.figure(figsize=(10,10))\n",
    "plt.imshow(Wp,cmap='bone',vmax=10,vmin=0)\n",
    "plt.xticks(ticks,labels)\n",
    "plt.yticks(ticks,labels)\n",
    "plt.xlabel('Horizontal Spatial Frequency (cpd)')\n",
    "plt.ylabel('Vertical Spatial Frequency (cpd)')\n",
    "plt.colorbar()\n",
    "plt.show()"
   ]
  },
  {
   "cell_type": "code",
   "execution_count": null,
   "metadata": {
    "code_folding": [
     0
    ]
   },
   "outputs": [],
   "source": [
    "## compare roughness of reconstructions to original\n",
    "\n",
    "def roughness(img):\n",
    "    # given an image (either a  vector or 2d matrix), measure the roughness\n",
    "    # defined as Frobenius norm of the hessian (2nd order derivative) matrix\n",
    "    del2 = np.gradient(img)\n",
    "\n",
    "    return np.linalg.norm(del2)\n",
    "\n",
    "def get_rougs_vec(imgs):\n",
    "    num_imgs = imgs.shape[1]\n",
    "    return [roughness(imgs[:,i]) for i in np.arange(num_imgs)]\n",
    "    \n",
    "\n",
    "\n",
    "img_list = os.listdir('./pics')\n",
    "num_pics = len(img_list)\n",
    "\n",
    "                            \n",
    "plt.figure(figsize=(16,9))\n",
    "a_point = 1\n",
    "s = 1\n",
    "\n",
    "%matplotlib notebook\n",
    "sim_data = data_set[\"sim_data_0\"]\n",
    "roughs_mat_mse = get_rougs_vec(sim_data.imgs_mse)\n",
    "roughs_mat_wms = get_rougs_vec(sim_data.imgs_wms)\n",
    "roughs_mat_ssm = get_rougs_vec(sim_data.imgs_ssm)\n",
    "\n",
    "for i in np.arange(num_pics-1)+1:\n",
    "    sim_data = data_set[\"sim_data_\"+str(i)]\n",
    "    roughs_mse = get_rougs_vec(sim_data.imgs_mse)\n",
    "    roughs_wms = get_rougs_vec(sim_data.imgs_wms)\n",
    "    roughs_ssm = get_rougs_vec(sim_data.imgs_ssm) \n",
    "    \n",
    "    roughs_mat_mse = np.hstack((roughs_mat_mse,roughs_mse))\n",
    "    roughs_mat_wms = np.hstack((roughs_mat_wms,roughs_wms))\n",
    "    roughs_mat_ssm = np.hstack((roughs_mat_ssm,roughs_ssm))\n",
    "\n",
    "plt.scatter(roughs_mat_ssm,roughs_mat_mse,label='MSE Reconstructions',s=s,alpha=a_point,marker='.')\n",
    "plt.scatter(roughs_mat_ssm,roughs_mat_wms,label='wMSE Reconstructions',s=s,alpha=a_point,marker='.')\n",
    "plt.scatter(roughs_mat_ssm,roughs_mat_ssm,label='SSIM Reconstructions',s=s,alpha=a_point,marker='.')\n",
    "plt.title(\"MSE and wMSE Gradient Energy vs. SSIM Gradient Energy \\n Data from 14 Natural Scenes\")\n",
    "plt.xlabel('Gradient Energy of SSIM Image Reconstruction')\n",
    "plt.ylabel('Gradient Energy of Image Reconstruction')\n",
    "plt.legend()\n",
    "plt.savefig('roughs_vs_ssm.jpg',bbox_inches='tight')\n",
    "\n",
    "\n",
    "#report correlation coefficients of each variable:\n",
    "mse_v_wms_v_ssm_roughs = np.vstack((roughs_mse,roughs_wms,roughs_ssm))\n",
    "corr_coeffs = np.corrcoef(mse_v_wms_v_ssm_roughs)\n",
    "print((corr_coeffs))\n",
    "\n",
    "print(np.sqrt((roughs_mat_wms-roughs_mat_ssm).T@(roughs_mat_wms-roughs_mat_ssm)/roughs_mat_mse.size))\n",
    "print(np.sqrt((roughs_mat_ssm-roughs_mat_mse).T@(roughs_mat_ssm-roughs_mat_mse)/roughs_mat_mse.size))\n",
    "\n",
    "\n",
    "\n",
    "\n"
   ]
  },
  {
   "cell_type": "code",
   "execution_count": null,
   "metadata": {
    "code_folding": [
     0
    ]
   },
   "outputs": [],
   "source": [
    "## plot contrast/ numspikes for each metric\n",
    "from scipy import stats\n",
    "xs = np.linspace(np.min(spikes_mat_ssm),np.max(spikes_mat_ssm),1000)\n",
    "\n",
    "a = 1\n",
    "s = .05\n",
    "plt.figure(figsize=(16,9))\n",
    "plt.scatter(spikes_mat_mse,roughs_mat_mse,label='MSE',alpha=a,s=s,c='#1f77b4')\n",
    "\n",
    "plt.scatter(spikes_mat_wms,roughs_mat_wms,label='wMSE',alpha=a,s=s,c='#ff7f0e')\n",
    "\n",
    "plt.scatter(spikes_mat_ssm,roughs_mat_ssm,label='SSIM',alpha=a,s=s,c='#2ca02c')\n",
    "plt.show()\n",
    "\n",
    "\n",
    "plt.title('Image Gradient Energy vs. Number of Spikes used in Reconstruction')\n",
    "plt.xlabel('Total Number of Spikes in Optimal Reconstruction \\n Data from 14 Natural Scenes')\n",
    "plt.ylabel('Gradient Energy')\n",
    "plt.savefig('roughs_vs_num_spikes.jpg',bbox_inches='tight')\n",
    "plt.show()\n",
    "\n",
    "\n",
    "\n",
    "\n",
    "\n",
    "mse_corr = np.corrcoef(np.vstack((spikes_mat_mse,roughs_mat_mse)))\n",
    "wms_corr = np.corrcoef(np.vstack((spikes_mat_wms,roughs_mat_wms)))\n",
    "ssm_corr = np.corrcoef(np.vstack((spikes_mat_ssm,roughs_mat_ssm)))\n",
    "print(mse_corr)\n",
    "print(wms_corr)\n",
    "print(ssm_corr)"
   ]
  },
  {
   "cell_type": "code",
   "execution_count": null,
   "metadata": {},
   "outputs": [],
   "source": []
  }
 ],
 "metadata": {
  "kernelspec": {
   "display_name": "Python 3",
   "language": "python",
   "name": "python3"
  },
  "language_info": {
   "codemirror_mode": {
    "name": "ipython",
    "version": 3
   },
   "file_extension": ".py",
   "mimetype": "text/x-python",
   "name": "python",
   "nbconvert_exporter": "python",
   "pygments_lexer": "ipython3",
   "version": "3.7.3"
  }
 },
 "nbformat": 4,
 "nbformat_minor": 2
}
